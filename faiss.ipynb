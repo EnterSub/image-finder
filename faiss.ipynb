{
  "nbformat": 4,
  "nbformat_minor": 0,
  "metadata": {
    "colab": {
      "name": "Копия блокнота \"faiss.ipynb\"",
      "provenance": []
    },
    "kernelspec": {
      "name": "python3",
      "display_name": "Python 3"
    },
    "language_info": {
      "name": "python"
    }
  },
  "cells": [
    {
      "cell_type": "code",
      "source": [
        "!pip install ruclip==0.0.1\n",
        "!pip install numpy\n",
        "!pip install torch torchvision torchaudio\n",
        "!pip install mkl\n",
        "!apt install libomp-dev\n",
        "!pip install faiss"
      ],
      "metadata": {
        "colab": {
          "base_uri": "https://localhost:8080/"
        },
        "id": "--eJ-2Cd0CSa",
        "outputId": "d586673a-8704-48a2-9c76-8709a264f82d"
      },
      "execution_count": null,
      "outputs": [
        {
          "output_type": "stream",
          "name": "stdout",
          "text": [
            "Collecting ruclip==0.0.1\n",
            "  Downloading ruclip-0.0.1-py3-none-any.whl (14 kB)\n",
            "Requirement already satisfied: more-itertools==8.12.0 in /usr/local/lib/python3.7/dist-packages (from ruclip==0.0.1) (8.12.0)\n",
            "Collecting youtokentome~=1.0.6\n",
            "  Downloading youtokentome-1.0.6-cp37-cp37m-manylinux2010_x86_64.whl (1.7 MB)\n",
            "\u001b[K     |████████████████████████████████| 1.7 MB 19.1 MB/s \n",
            "\u001b[?25hRequirement already satisfied: torch in /usr/local/lib/python3.7/dist-packages (from ruclip==0.0.1) (1.10.0+cu111)\n",
            "Requirement already satisfied: torchvision in /usr/local/lib/python3.7/dist-packages (from ruclip==0.0.1) (0.11.1+cu111)\n",
            "Collecting huggingface-hub==0.2.1\n",
            "  Downloading huggingface_hub-0.2.1-py3-none-any.whl (61 kB)\n",
            "\u001b[K     |████████████████████████████████| 61 kB 331 kB/s \n",
            "\u001b[?25hRequirement already satisfied: filelock in /usr/local/lib/python3.7/dist-packages (from huggingface-hub==0.2.1->ruclip==0.0.1) (3.4.2)\n",
            "Requirement already satisfied: importlib-metadata in /usr/local/lib/python3.7/dist-packages (from huggingface-hub==0.2.1->ruclip==0.0.1) (4.10.1)\n",
            "Requirement already satisfied: tqdm in /usr/local/lib/python3.7/dist-packages (from huggingface-hub==0.2.1->ruclip==0.0.1) (4.62.3)\n",
            "Requirement already satisfied: requests in /usr/local/lib/python3.7/dist-packages (from huggingface-hub==0.2.1->ruclip==0.0.1) (2.23.0)\n",
            "Requirement already satisfied: packaging>=20.9 in /usr/local/lib/python3.7/dist-packages (from huggingface-hub==0.2.1->ruclip==0.0.1) (21.3)\n",
            "Requirement already satisfied: pyyaml in /usr/local/lib/python3.7/dist-packages (from huggingface-hub==0.2.1->ruclip==0.0.1) (3.13)\n",
            "Requirement already satisfied: typing-extensions>=3.7.4.3 in /usr/local/lib/python3.7/dist-packages (from huggingface-hub==0.2.1->ruclip==0.0.1) (3.10.0.2)\n",
            "Requirement already satisfied: pyparsing!=3.0.5,>=2.0.2 in /usr/local/lib/python3.7/dist-packages (from packaging>=20.9->huggingface-hub==0.2.1->ruclip==0.0.1) (3.0.7)\n",
            "Requirement already satisfied: Click>=7.0 in /usr/local/lib/python3.7/dist-packages (from youtokentome~=1.0.6->ruclip==0.0.1) (7.1.2)\n",
            "Requirement already satisfied: zipp>=0.5 in /usr/local/lib/python3.7/dist-packages (from importlib-metadata->huggingface-hub==0.2.1->ruclip==0.0.1) (3.7.0)\n",
            "Requirement already satisfied: idna<3,>=2.5 in /usr/local/lib/python3.7/dist-packages (from requests->huggingface-hub==0.2.1->ruclip==0.0.1) (2.10)\n",
            "Requirement already satisfied: urllib3!=1.25.0,!=1.25.1,<1.26,>=1.21.1 in /usr/local/lib/python3.7/dist-packages (from requests->huggingface-hub==0.2.1->ruclip==0.0.1) (1.24.3)\n",
            "Requirement already satisfied: certifi>=2017.4.17 in /usr/local/lib/python3.7/dist-packages (from requests->huggingface-hub==0.2.1->ruclip==0.0.1) (2021.10.8)\n",
            "Requirement already satisfied: chardet<4,>=3.0.2 in /usr/local/lib/python3.7/dist-packages (from requests->huggingface-hub==0.2.1->ruclip==0.0.1) (3.0.4)\n",
            "Requirement already satisfied: pillow!=8.3.0,>=5.3.0 in /usr/local/lib/python3.7/dist-packages (from torchvision->ruclip==0.0.1) (7.1.2)\n",
            "Requirement already satisfied: numpy in /usr/local/lib/python3.7/dist-packages (from torchvision->ruclip==0.0.1) (1.19.5)\n",
            "Installing collected packages: youtokentome, huggingface-hub, ruclip\n",
            "Successfully installed huggingface-hub-0.2.1 ruclip-0.0.1 youtokentome-1.0.6\n",
            "Requirement already satisfied: numpy in /usr/local/lib/python3.7/dist-packages (1.19.5)\n",
            "Requirement already satisfied: torch in /usr/local/lib/python3.7/dist-packages (1.10.0+cu111)\n",
            "Requirement already satisfied: torchvision in /usr/local/lib/python3.7/dist-packages (0.11.1+cu111)\n",
            "Requirement already satisfied: torchaudio in /usr/local/lib/python3.7/dist-packages (0.10.0+cu111)\n",
            "Requirement already satisfied: typing-extensions in /usr/local/lib/python3.7/dist-packages (from torch) (3.10.0.2)\n",
            "Requirement already satisfied: pillow!=8.3.0,>=5.3.0 in /usr/local/lib/python3.7/dist-packages (from torchvision) (7.1.2)\n",
            "Requirement already satisfied: numpy in /usr/local/lib/python3.7/dist-packages (from torchvision) (1.19.5)\n",
            "Requirement already satisfied: mkl in /usr/local/lib/python3.7/dist-packages (2019.0)\n",
            "Requirement already satisfied: intel-openmp in /usr/local/lib/python3.7/dist-packages (from mkl) (2022.0.2)\n",
            "Reading package lists... Done\n",
            "Building dependency tree       \n",
            "Reading state information... Done\n",
            "The following additional packages will be installed:\n",
            "  libomp5\n",
            "Suggested packages:\n",
            "  libomp-doc\n",
            "The following NEW packages will be installed:\n",
            "  libomp-dev libomp5\n",
            "0 upgraded, 2 newly installed, 0 to remove and 37 not upgraded.\n",
            "Need to get 239 kB of archives.\n",
            "After this operation, 804 kB of additional disk space will be used.\n",
            "Get:1 http://archive.ubuntu.com/ubuntu bionic/universe amd64 libomp5 amd64 5.0.1-1 [234 kB]\n",
            "Get:2 http://archive.ubuntu.com/ubuntu bionic/universe amd64 libomp-dev amd64 5.0.1-1 [5,088 B]\n",
            "Fetched 239 kB in 1s (435 kB/s)\n",
            "Selecting previously unselected package libomp5:amd64.\n",
            "(Reading database ... 155229 files and directories currently installed.)\n",
            "Preparing to unpack .../libomp5_5.0.1-1_amd64.deb ...\n",
            "Unpacking libomp5:amd64 (5.0.1-1) ...\n",
            "Selecting previously unselected package libomp-dev.\n",
            "Preparing to unpack .../libomp-dev_5.0.1-1_amd64.deb ...\n",
            "Unpacking libomp-dev (5.0.1-1) ...\n",
            "Setting up libomp5:amd64 (5.0.1-1) ...\n",
            "Setting up libomp-dev (5.0.1-1) ...\n",
            "Processing triggers for libc-bin (2.27-3ubuntu1.3) ...\n",
            "/sbin/ldconfig.real: /usr/local/lib/python3.7/dist-packages/ideep4py/lib/libmkldnn.so.0 is not a symbolic link\n",
            "\n",
            "Collecting faiss\n",
            "  Downloading faiss-1.5.3-cp37-cp37m-manylinux1_x86_64.whl (4.7 MB)\n",
            "\u001b[K     |████████████████████████████████| 4.7 MB 21.4 MB/s \n",
            "\u001b[?25hRequirement already satisfied: numpy in /usr/local/lib/python3.7/dist-packages (from faiss) (1.19.5)\n",
            "Installing collected packages: faiss\n",
            "Successfully installed faiss-1.5.3\n"
          ]
        }
      ]
    },
    {
      "cell_type": "code",
      "source": [
        "'''\n",
        "  def add_vec(self):\n",
        "    self.index.add(v)\n",
        "'''"
      ],
      "metadata": {
        "id": "et3tkAM42haE"
      },
      "execution_count": null,
      "outputs": []
    },
    {
      "cell_type": "code",
      "execution_count": null,
      "metadata": {
        "id": "VaLhb5qEz_Gg"
      },
      "outputs": [],
      "source": [
        "import pickle\n",
        "import faiss\n",
        "\n",
        "class FAISS_index:\n",
        "\n",
        "  def __init__(self, dim, param, nprobe=5):\n",
        "    self.index = faiss.index_factory(dim, param)\n",
        "    self.dim = dim\n",
        "    self.index.nprobe = nprobe\n",
        "  \n",
        "  def add(self, vs):\n",
        "    self.index.add(vs)\n",
        "\n",
        "  def train(self, train_vectors):\n",
        "    self.index.train(train_vectors) \n",
        "\n",
        "  def find(self, query, topn):\n",
        "    D, I = self.index.search(query, topn) \n",
        "    return D, I\n",
        "\n",
        "  def save(self,index):\n",
        "    faiss.write_index(self.index, \"flat.index\")\n",
        "    '''\n",
        "    f = open(file, 'wb')\n",
        "    pickle.dump(self.index, file)\n",
        "    f.close()\n",
        "    '''\n",
        "\n",
        "  def load(self, file):\n",
        "    self.index = faiss.read_index(\"file\")\n",
        "    '''\n",
        "    f = open(file, 'rb')\n",
        "    self.index = pickle.load(f)\n",
        "    f.close()\n",
        "    '''\n"
      ]
    },
    {
      "cell_type": "code",
      "source": [
        ""
      ],
      "metadata": {
        "id": "zO4jHACTHAuM"
      },
      "execution_count": null,
      "outputs": []
    },
    {
      "cell_type": "code",
      "source": [
        "import numpy as np\n",
        "import faiss\n",
        "\n",
        "dim = 512\n",
        "vectors = np.random.random((10000, dim)).astype('float32')\n"
      ],
      "metadata": {
        "id": "21OX6ITC0vE2"
      },
      "execution_count": null,
      "outputs": []
    },
    {
      "cell_type": "code",
      "source": [
        "vectors"
      ],
      "metadata": {
        "id": "cw6aCw7I6tS7",
        "outputId": "c5181346-1cf1-44db-a6e4-385f58261854",
        "colab": {
          "base_uri": "https://localhost:8080/"
        }
      },
      "execution_count": null,
      "outputs": [
        {
          "output_type": "execute_result",
          "data": {
            "text/plain": [
              "array([[0.40567484, 0.24726497, 0.9929532 , ..., 0.58774656, 0.9164558 ,\n",
              "        0.22228129],\n",
              "       [0.5614106 , 0.23730758, 0.9968919 , ..., 0.08476409, 0.8451073 ,\n",
              "        0.6197213 ],\n",
              "       [0.93441767, 0.87079656, 0.42842066, ..., 0.9853476 , 0.89604324,\n",
              "        0.8861582 ],\n",
              "       ...,\n",
              "       [0.10383826, 0.94795775, 0.43908018, ..., 0.3321783 , 0.1212099 ,\n",
              "        0.8686052 ],\n",
              "       [0.14488854, 0.13894224, 0.5508177 , ..., 0.9037032 , 0.07438311,\n",
              "        0.35422388],\n",
              "       [0.93421453, 0.7281983 , 0.9231372 , ..., 0.6554589 , 0.5960626 ,\n",
              "        0.71071804]], dtype=float32)"
            ]
          },
          "metadata": {},
          "execution_count": 13
        }
      ]
    },
    {
      "cell_type": "code",
      "source": [
        "obj = FAISS_index(512)"
      ],
      "metadata": {
        "id": "S4Kvw0q9Haos"
      },
      "execution_count": null,
      "outputs": []
    },
    {
      "cell_type": "code",
      "source": [
        "obj.train(vectors)"
      ],
      "metadata": {
        "id": "wVBFHlhBHa2J"
      },
      "execution_count": null,
      "outputs": []
    },
    {
      "cell_type": "code",
      "source": [
        "obj.add(vectors)"
      ],
      "metadata": {
        "id": "ECNo4ikVJBKa"
      },
      "execution_count": null,
      "outputs": []
    },
    {
      "cell_type": "code",
      "source": [
        "obj.find(vectors[0:1], 7)"
      ],
      "metadata": {
        "colab": {
          "base_uri": "https://localhost:8080/"
        },
        "id": "I4S_0PgkH8w6",
        "outputId": "49572837-cb1c-4836-8a74-11b8f1c89d0d"
      },
      "execution_count": null,
      "outputs": [
        {
          "output_type": "execute_result",
          "data": {
            "text/plain": [
              "(array([[ 0.     , 70.91014, 72.51279, 72.56651, 73.44196, 74.40196,\n",
              "         74.40657]], dtype=float32),\n",
              " array([[     0, 684008, 692800,  93084, 229274, 607355, 437542]]))"
            ]
          },
          "metadata": {},
          "execution_count": 15
        }
      ]
    },
    {
      "cell_type": "code",
      "source": [
        "def test():\n",
        "  assert obj.find(vectors[0:1], 1)[1][0] == 0\n"
      ],
      "metadata": {
        "id": "4fFHo2RrH843"
      },
      "execution_count": null,
      "outputs": []
    },
    {
      "cell_type": "code",
      "source": [
        "test()"
      ],
      "metadata": {
        "id": "QoODKcXUH9Ai"
      },
      "execution_count": null,
      "outputs": []
    }
  ]
}